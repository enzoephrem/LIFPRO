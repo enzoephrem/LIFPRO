{
  "cells": [
    {
      "cell_type": "markdown",
      "metadata": {
        "id": "102cf74e-7463-4c41-80ad-b10ffcd2c1a8"
      },
      "source": [
        "# Brain Tumor Classification"
      ],
      "id": "102cf74e-7463-4c41-80ad-b10ffcd2c1a8"
    },
    {
      "cell_type": "code",
      "execution_count": 9,
      "metadata": {
        "colab": {
          "base_uri": "https://localhost:8080/"
        },
        "id": "aZPvf-HxbbMu",
        "outputId": "4e42cdfe-196b-49c4-c661-0686c83e06b3"
      },
      "outputs": [
        {
          "output_type": "stream",
          "name": "stdout",
          "text": [
            "Mounted at /content/drive/\n"
          ]
        }
      ],
      "source": [
        "from google.colab import drive\n",
        "drive.mount('/content/drive/',  force_remount=True)"
      ],
      "id": "aZPvf-HxbbMu"
    },
    {
      "cell_type": "markdown",
      "metadata": {
        "id": "e14bf024-61c7-47b9-ae11-9ad78f3c6b4c"
      },
      "source": [
        "## 1. Importing Libraries"
      ],
      "id": "e14bf024-61c7-47b9-ae11-9ad78f3c6b4c"
    },
    {
      "cell_type": "code",
      "execution_count": 21,
      "metadata": {
        "id": "d7f97482"
      },
      "outputs": [],
      "source": [
        "import os\n",
        "import cv2\n",
        "import logging\n",
        "import numpy as np\n",
        "from pathlib import Path\n",
        "from datetime import datetime\n",
        "from matplotlib import pyplot as plt\n",
        "\n",
        "\n",
        "import tensorflow as tf\n",
        "from tensorflow import keras\n",
        "\n",
        "import logging\n",
        "from keras.models import Sequential, Model\n",
        "from keras.models import Sequential, Model\n",
        "from keras.layers import Input, Dropout, Dense, GlobalAveragePooling2D, Conv2D, MaxPool2D, Flatten, LeakyReLU, LayerNormalization\n",
        "\n",
        "from keras.applications.resnet import ResNet50\n",
        "from keras.applications.vgg16 import VGG16\n",
        "from keras.applications.efficientnet import EfficientNetB0\n",
        "from keras.applications.mobilenet_v2 import MobileNetV2\n",
        "from keras.applications import imagenet_utils\n",
        "\n",
        "from keras.preprocessing.image import ImageDataGenerator\n",
        "\n",
        "from sklearn.utils import shuffle\n",
        "from sklearn.model_selection import train_test_split"
      ],
      "id": "d7f97482"
    },
    {
      "cell_type": "code",
      "execution_count": 11,
      "metadata": {
        "id": "E1mceddifao3"
      },
      "outputs": [],
      "source": [
        "!cp -r \"/content/drive/MyDrive/LIFPROJET/Classification/dataset\" '/content/'"
      ],
      "id": "E1mceddifao3"
    },
    {
      "cell_type": "markdown",
      "metadata": {
        "id": "c3b63324-fa33-4f63-82b5-42fa46c06747"
      },
      "source": [
        "Ignore Warning : A NumPy version >=1.16.5 and <1.23.0 is required for this version of SciPy"
      ],
      "id": "c3b63324-fa33-4f63-82b5-42fa46c06747"
    },
    {
      "cell_type": "code",
      "execution_count": 12,
      "metadata": {
        "id": "f858f297"
      },
      "outputs": [],
      "source": [
        "__file__ = '/content/drive/MyDrive/LIFPROJET/Classification/tumor_classifier.ipynb'\n",
        "\n",
        "BASE_DIR = Path(__file__).resolve().parent\n",
        "\n",
        "path_training = Path(\"/content/dataset/Training\")\n",
        "path_test = Path(\"/content/dataset/Testing\")\n"
      ],
      "id": "f858f297"
    },
    {
      "cell_type": "markdown",
      "metadata": {
        "id": "c8c052f2-f013-417c-8eff-b43f16a9a9ca"
      },
      "source": [
        "## 2. Data Initialization"
      ],
      "id": "c8c052f2-f013-417c-8eff-b43f16a9a9ca"
    },
    {
      "cell_type": "code",
      "execution_count": 13,
      "metadata": {
        "id": "4ea072c5"
      },
      "outputs": [],
      "source": [
        "X_train = [] # training images\n",
        "y_train  = [] # training labels\n",
        "\n",
        "X_test = [] # testing images\n",
        "y_test = [] # testing labels\n",
        "\n",
        "IMAGE_SIZE = 128\n",
        "\n",
        "classes = ['glioma', 'meningioma', 'notumor', 'pituitary']\n",
        "\n",
        "\n",
        "for label in classes:\n",
        "    train_path = path_training / label\n",
        "    list_files_training = os.listdir(str(train_path))\n",
        "    \n",
        "    test_path = path_test / label\n",
        "    list_files_test = os.listdir(str(test_path))\n",
        "    \n",
        "    # Training\n",
        "    for file in list_files_training:\n",
        "        path_image = train_path / file\n",
        "        img = cv2.imread(str(path_image),0) # 0 = gray\n",
        "        \n",
        "        # Produce a pseudocolored image\n",
        "        img = cv2.applyColorMap(img, cv2.COLORMAP_BONE)\n",
        "        \n",
        "        # Resize in case of error in preprocessing\n",
        "        img = cv2.resize(img, (IMAGE_SIZE, IMAGE_SIZE))\n",
        "        \n",
        "        X_train.append(img)\n",
        "        y_train.append(classes.index(label))\n",
        "    \n",
        "    # Test         \n",
        "    for file in list_files_test:\n",
        "        path_image = test_path / file\n",
        "        img = cv2.imread(str(path_image),0) # 0 = gray\n",
        "        \n",
        "        # Produce a pseudocolored image\n",
        "        img = cv2.applyColorMap(img, cv2.COLORMAP_BONE)\n",
        "        \n",
        "        # Resize in case of error in preprocessing\n",
        "        img = cv2.resize(img, (IMAGE_SIZE, IMAGE_SIZE))\n",
        "        \n",
        "        X_test.append(img)\n",
        "        y_test.append(classes.index(label))"
      ],
      "id": "4ea072c5"
    },
    {
      "cell_type": "code",
      "execution_count": 14,
      "metadata": {
        "colab": {
          "base_uri": "https://localhost:8080/"
        },
        "id": "b6d6ae2b",
        "outputId": "aa779a91-d93c-4a91-b0e9-0b06b909bcb5"
      },
      "outputs": [
        {
          "output_type": "stream",
          "name": "stdout",
          "text": [
            "(5712, 128, 128, 3)\n",
            "(1310, 128, 128, 3)\n"
          ]
        }
      ],
      "source": [
        "# Convert to numpy array and Normalize into range 0 to 1\n",
        "\n",
        "X_train = np.array(X_train) / 255.0\n",
        "X_test = np.array(X_test) / 255.0\n",
        "\n",
        "print(X_train.shape)\n",
        "print(X_test.shape)"
      ],
      "id": "b6d6ae2b"
    },
    {
      "cell_type": "code",
      "execution_count": 15,
      "metadata": {
        "colab": {
          "base_uri": "https://localhost:8080/"
        },
        "id": "59886033",
        "outputId": "b4b197a2-79b8-4cc9-8491-500495942e72"
      },
      "outputs": [
        {
          "output_type": "stream",
          "name": "stdout",
          "text": [
            "(1143, 128, 128, 3)\n",
            "(1143, 4)\n"
          ]
        }
      ],
      "source": [
        "# Shuffule images\n",
        "X_train, y_train = shuffle(X_train,y_train, random_state=10) \n",
        "\n",
        "# Initialize tensorflow classes categorical\n",
        "y_train = tf.keras.utils.to_categorical(y_train)\n",
        "y_test = tf.keras.utils.to_categorical(y_test)\n",
        "\n",
        "# Dividing dataset into 2 sets : training and validation\n",
        "X_train, X_val, y_train, y_val = train_test_split(X_train, y_train, test_size=0.2, random_state=10)\n",
        "print(X_val.shape)\n",
        "print(y_val.shape)"
      ],
      "id": "59886033"
    },
    {
      "cell_type": "markdown",
      "metadata": {
        "id": "fe009f8d-d45b-4a15-b729-b5f9abc3b6b5"
      },
      "source": [
        "## 3. Data Augmentation"
      ],
      "id": "fe009f8d-d45b-4a15-b729-b5f9abc3b6b5"
    },
    {
      "cell_type": "code",
      "execution_count": 16,
      "metadata": {
        "id": "c81a3d36"
      },
      "outputs": [],
      "source": [
        "train_datagen = ImageDataGenerator(rotation_range=8,\n",
        "                                   shear_range=0.2,\n",
        "                                   zoom_range=0.2,\n",
        "                                   width_shift_range=0.05,\n",
        "                                   height_shift_range=0.05,\n",
        "                                   horizontal_flip=True)\n",
        "\n",
        "train_datagen.fit(X_train)"
      ],
      "id": "c81a3d36"
    },
    {
      "cell_type": "markdown",
      "metadata": {
        "id": "aaf52c55-58b1-400f-b631-d534462798ae"
      },
      "source": [
        "## 4. Convutional Neural Network"
      ],
      "id": "aaf52c55-58b1-400f-b631-d534462798ae"
    },
    {
      "cell_type": "markdown",
      "metadata": {
        "id": "46bba3a4-72fa-4084-ae9d-a1027cdcc74b"
      },
      "source": [
        "### 4.1 Model Settings / Pre-trained Model"
      ],
      "id": "46bba3a4-72fa-4084-ae9d-a1027cdcc74b"
    },
    {
      "cell_type": "code",
      "execution_count": 68,
      "metadata": {
        "id": "4e62e21f"
      },
      "outputs": [],
      "source": [
        "vgg_model = VGG16(weights='imagenet', # Load weights pre-trained on ImageNet.\n",
        "                       include_top=False,\n",
        "                       input_shape=(IMAGE_SIZE,IMAGE_SIZE,3))"
      ],
      "id": "4e62e21f"
    },
    {
      "cell_type": "markdown",
      "metadata": {
        "id": "75f689ff-afae-4dd2-adff-52c996a3ac62"
      },
      "source": [
        "### 4.2 Model Initialization"
      ],
      "id": "75f689ff-afae-4dd2-adff-52c996a3ac62"
    },
    {
      "cell_type": "code",
      "execution_count": 69,
      "metadata": {
        "id": "6570f4b8"
      },
      "outputs": [],
      "source": [
        "classifier_model = vgg_model.output\n",
        "classifier_model = GlobalAveragePooling2D()(classifier_model)\n",
        "\n",
        "\n",
        "classifier_model = Dense(units=64, activation=\"relu\")(classifier_model)\n",
        "classifier_model = Dropout(0.1)(classifier_model)\n",
        "classifier_model = Dense(units=32, activation=\"relu\")(classifier_model)\n",
        "classifier_model = Dense(units=16, activation=\"relu\")(classifier_model)\n",
        "\n",
        "classifier_model = Dense(units=4, activation=\"softmax\")(classifier_model)\n",
        "\n",
        "classifier_model = tf.keras.Model(inputs= vgg_model.input, outputs= classifier_model)"
      ],
      "id": "6570f4b8"
    },
    {
      "cell_type": "markdown",
      "metadata": {
        "id": "6fa7d02a-a5a8-490d-939c-fc1aa9c40f9a"
      },
      "source": [
        "### 4.3 Model Compilation"
      ],
      "id": "6fa7d02a-a5a8-490d-939c-fc1aa9c40f9a"
    },
    {
      "cell_type": "code",
      "execution_count": 70,
      "metadata": {
        "id": "f1b95437"
      },
      "outputs": [],
      "source": [
        "PRE_TRAINED_MODEL = \"MobileNetV2\"\n",
        "OPTIMIZER = \"SGD\"\n",
        "\n",
        "LOSS = 'kl_divergence'\n",
        "\n",
        "BATCH_SIZE = 2\n",
        "EPOCHS = 50\n",
        "\n",
        "MODEL_NAME = PRE_TRAINED_MODEL + \"_\" + OPTIMIZER + \"_\" + LOSS + \"_\" + str(EPOCHS)\n"
      ],
      "id": "f1b95437"
    },
    {
      "cell_type": "code",
      "execution_count": 71,
      "metadata": {
        "id": "010f7b0f-6fee-4968-946b-3a54e98af15c",
        "colab": {
          "base_uri": "https://localhost:8080/"
        },
        "outputId": "f5d8ac25-22da-4d0f-f221-c99120cd7182"
      },
      "outputs": [
        {
          "output_type": "stream",
          "name": "stdout",
          "text": [
            "Model: \"model_8\"\n",
            "_________________________________________________________________\n",
            " Layer (type)                Output Shape              Param #   \n",
            "=================================================================\n",
            " input_3 (InputLayer)        [(None, 128, 128, 3)]     0         \n",
            "                                                                 \n",
            " block1_conv1 (Conv2D)       (None, 128, 128, 64)      1792      \n",
            "                                                                 \n",
            " block1_conv2 (Conv2D)       (None, 128, 128, 64)      36928     \n",
            "                                                                 \n",
            " block1_pool (MaxPooling2D)  (None, 64, 64, 64)        0         \n",
            "                                                                 \n",
            " block2_conv1 (Conv2D)       (None, 64, 64, 128)       73856     \n",
            "                                                                 \n",
            " block2_conv2 (Conv2D)       (None, 64, 64, 128)       147584    \n",
            "                                                                 \n",
            " block2_pool (MaxPooling2D)  (None, 32, 32, 128)       0         \n",
            "                                                                 \n",
            " block3_conv1 (Conv2D)       (None, 32, 32, 256)       295168    \n",
            "                                                                 \n",
            " block3_conv2 (Conv2D)       (None, 32, 32, 256)       590080    \n",
            "                                                                 \n",
            " block3_conv3 (Conv2D)       (None, 32, 32, 256)       590080    \n",
            "                                                                 \n",
            " block3_pool (MaxPooling2D)  (None, 16, 16, 256)       0         \n",
            "                                                                 \n",
            " block4_conv1 (Conv2D)       (None, 16, 16, 512)       1180160   \n",
            "                                                                 \n",
            " block4_conv2 (Conv2D)       (None, 16, 16, 512)       2359808   \n",
            "                                                                 \n",
            " block4_conv3 (Conv2D)       (None, 16, 16, 512)       2359808   \n",
            "                                                                 \n",
            " block4_pool (MaxPooling2D)  (None, 8, 8, 512)         0         \n",
            "                                                                 \n",
            " block5_conv1 (Conv2D)       (None, 8, 8, 512)         2359808   \n",
            "                                                                 \n",
            " block5_conv2 (Conv2D)       (None, 8, 8, 512)         2359808   \n",
            "                                                                 \n",
            " block5_conv3 (Conv2D)       (None, 8, 8, 512)         2359808   \n",
            "                                                                 \n",
            " block5_pool (MaxPooling2D)  (None, 4, 4, 512)         0         \n",
            "                                                                 \n",
            " global_average_pooling2d_8   (None, 512)              0         \n",
            " (GlobalAveragePooling2D)                                        \n",
            "                                                                 \n",
            " dense_33 (Dense)            (None, 64)                32832     \n",
            "                                                                 \n",
            " dropout_17 (Dropout)        (None, 64)                0         \n",
            "                                                                 \n",
            " dense_34 (Dense)            (None, 32)                2080      \n",
            "                                                                 \n",
            " dense_35 (Dense)            (None, 16)                528       \n",
            "                                                                 \n",
            " dense_36 (Dense)            (None, 4)                 68        \n",
            "                                                                 \n",
            "=================================================================\n",
            "Total params: 14,750,196\n",
            "Trainable params: 14,750,196\n",
            "Non-trainable params: 0\n",
            "_________________________________________________________________\n"
          ]
        }
      ],
      "source": [
        "classifier_model.compile(optimizer=keras.optimizers.SGD(learning_rate=0.0001),\n",
        "              loss = LOSS,\n",
        "              metrics=['accuracy'])\n",
        "classifier_model.summary()"
      ],
      "id": "010f7b0f-6fee-4968-946b-3a54e98af15c"
    },
    {
      "cell_type": "markdown",
      "metadata": {
        "id": "71df92e5-cf9f-43ab-8820-6092cc5c60ae"
      },
      "source": [
        "### 4.4 Model Training"
      ],
      "id": "71df92e5-cf9f-43ab-8820-6092cc5c60ae"
    },
    {
      "cell_type": "markdown",
      "metadata": {
        "id": "bc90f83b-bf6b-4e34-a2f5-36c6bb181574"
      },
      "source": [
        "#### 4.4.1 Save checkpoints during training"
      ],
      "id": "bc90f83b-bf6b-4e34-a2f5-36c6bb181574"
    },
    {
      "cell_type": "code",
      "execution_count": 65,
      "metadata": {
        "id": "5bd57a82-470e-4c84-b2c7-83ca28ee1100"
      },
      "outputs": [],
      "source": [
        "checkpoint_path = \"logs/checkpoints3/\" + \"_\" + MODEL_NAME\n",
        "checkpoint_callback = tf.keras.callbacks.ModelCheckpoint(filepath=checkpoint_path,\n",
        "                                                         save_weights_only=True,\n",
        "                                                         verbose=1)\n"
      ],
      "id": "5bd57a82-470e-4c84-b2c7-83ca28ee1100"
    },
    {
      "cell_type": "markdown",
      "metadata": {
        "id": "409bc4fa-4147-4dbf-8542-2c5b0afc6183"
      },
      "source": [
        "#### 4.4.2 Initialize TensorBoard during training"
      ],
      "id": "409bc4fa-4147-4dbf-8542-2c5b0afc6183"
    },
    {
      "cell_type": "code",
      "execution_count": 72,
      "metadata": {
        "id": "a0824c9e-5323-4e0e-af79-d377bce6e6a1"
      },
      "outputs": [],
      "source": [
        "log_dir = \"/content/drive/MyDrive/LIFPROJET/Classification/logs/fit3/\" + \"_\" + MODEL_NAME\n",
        "tensorboard_callback = tf.keras.callbacks.TensorBoard(log_dir=log_dir, histogram_freq=1)"
      ],
      "id": "a0824c9e-5323-4e0e-af79-d377bce6e6a1"
    },
    {
      "cell_type": "code",
      "execution_count": 73,
      "metadata": {
        "id": "3d4508a1",
        "colab": {
          "base_uri": "https://localhost:8080/"
        },
        "outputId": "d8ee3d13-e135-4ab1-f4fe-8f16524d1521"
      },
      "outputs": [
        {
          "output_type": "stream",
          "name": "stdout",
          "text": [
            "Epoch 1/50\n",
            "2285/2285 [==============================] - 60s 26ms/step - loss: 1.0305 - accuracy: 0.5710 - val_loss: 0.5291 - val_accuracy: 0.8460\n",
            "Epoch 2/50\n",
            "2285/2285 [==============================] - 58s 25ms/step - loss: 0.5533 - accuracy: 0.7982 - val_loss: 0.3992 - val_accuracy: 0.8556\n",
            "Epoch 3/50\n",
            "2285/2285 [==============================] - 58s 25ms/step - loss: 0.4092 - accuracy: 0.8525 - val_loss: 0.6128 - val_accuracy: 0.7892\n",
            "Epoch 4/50\n",
            "2285/2285 [==============================] - 58s 25ms/step - loss: 0.3455 - accuracy: 0.8772 - val_loss: 0.2439 - val_accuracy: 0.9125\n",
            "Epoch 5/50\n",
            "2285/2285 [==============================] - 58s 25ms/step - loss: 0.3060 - accuracy: 0.8877 - val_loss: 0.2263 - val_accuracy: 0.9160\n",
            "Epoch 6/50\n",
            "2285/2285 [==============================] - 58s 25ms/step - loss: 0.2567 - accuracy: 0.9061 - val_loss: 0.1936 - val_accuracy: 0.9256\n",
            "Epoch 7/50\n",
            "2285/2285 [==============================] - 58s 25ms/step - loss: 0.2412 - accuracy: 0.9079 - val_loss: 0.2446 - val_accuracy: 0.9099\n",
            "Epoch 8/50\n",
            "2285/2285 [==============================] - 58s 25ms/step - loss: 0.2047 - accuracy: 0.9260 - val_loss: 0.1786 - val_accuracy: 0.9353\n",
            "Epoch 9/50\n",
            "2285/2285 [==============================] - 58s 25ms/step - loss: 0.1824 - accuracy: 0.9389 - val_loss: 0.2128 - val_accuracy: 0.9265\n",
            "Epoch 10/50\n",
            "2285/2285 [==============================] - 58s 25ms/step - loss: 0.1874 - accuracy: 0.9293 - val_loss: 0.1617 - val_accuracy: 0.9388\n",
            "Epoch 11/50\n",
            "2285/2285 [==============================] - 58s 25ms/step - loss: 0.1583 - accuracy: 0.9378 - val_loss: 0.1951 - val_accuracy: 0.9361\n",
            "Epoch 12/50\n",
            "2285/2285 [==============================] - 58s 25ms/step - loss: 0.1491 - accuracy: 0.9488 - val_loss: 0.1967 - val_accuracy: 0.9274\n",
            "Epoch 13/50\n",
            "2285/2285 [==============================] - 58s 25ms/step - loss: 0.1369 - accuracy: 0.9527 - val_loss: 0.1824 - val_accuracy: 0.9274\n",
            "Epoch 14/50\n",
            "2285/2285 [==============================] - 58s 25ms/step - loss: 0.1237 - accuracy: 0.9547 - val_loss: 0.1995 - val_accuracy: 0.9326\n",
            "Epoch 15/50\n",
            "2285/2285 [==============================] - 58s 25ms/step - loss: 0.1172 - accuracy: 0.9597 - val_loss: 0.1502 - val_accuracy: 0.9510\n",
            "Epoch 16/50\n",
            "2285/2285 [==============================] - 58s 25ms/step - loss: 0.1213 - accuracy: 0.9549 - val_loss: 0.1119 - val_accuracy: 0.9589\n",
            "Epoch 17/50\n",
            "2285/2285 [==============================] - 58s 25ms/step - loss: 0.1077 - accuracy: 0.9586 - val_loss: 0.2950 - val_accuracy: 0.9134\n",
            "Epoch 18/50\n",
            "2285/2285 [==============================] - 58s 25ms/step - loss: 0.0925 - accuracy: 0.9676 - val_loss: 0.1005 - val_accuracy: 0.9685\n",
            "Epoch 19/50\n",
            "2285/2285 [==============================] - 58s 25ms/step - loss: 0.0927 - accuracy: 0.9667 - val_loss: 0.2834 - val_accuracy: 0.9160\n",
            "Epoch 20/50\n",
            "2285/2285 [==============================] - 58s 25ms/step - loss: 0.0893 - accuracy: 0.9687 - val_loss: 0.1597 - val_accuracy: 0.9449\n",
            "Epoch 21/50\n",
            "2285/2285 [==============================] - 58s 25ms/step - loss: 0.0757 - accuracy: 0.9740 - val_loss: 0.2024 - val_accuracy: 0.9388\n",
            "Epoch 22/50\n",
            "2285/2285 [==============================] - 58s 25ms/step - loss: 0.0791 - accuracy: 0.9707 - val_loss: 0.1393 - val_accuracy: 0.9501\n",
            "Epoch 23/50\n",
            "2285/2285 [==============================] - 58s 25ms/step - loss: 0.0731 - accuracy: 0.9740 - val_loss: 0.1499 - val_accuracy: 0.9510\n",
            "Epoch 24/50\n",
            "2285/2285 [==============================] - 58s 25ms/step - loss: 0.0716 - accuracy: 0.9740 - val_loss: 0.0868 - val_accuracy: 0.9720\n",
            "Epoch 25/50\n",
            "2285/2285 [==============================] - 58s 25ms/step - loss: 0.0683 - accuracy: 0.9755 - val_loss: 0.1561 - val_accuracy: 0.9493\n",
            "Epoch 26/50\n",
            "2285/2285 [==============================] - 59s 26ms/step - loss: 0.0637 - accuracy: 0.9788 - val_loss: 0.1481 - val_accuracy: 0.9554\n",
            "Epoch 27/50\n",
            "2285/2285 [==============================] - 58s 26ms/step - loss: 0.0567 - accuracy: 0.9799 - val_loss: 0.0936 - val_accuracy: 0.9685\n",
            "Epoch 28/50\n",
            "2285/2285 [==============================] - 59s 26ms/step - loss: 0.0599 - accuracy: 0.9783 - val_loss: 0.1121 - val_accuracy: 0.9659\n",
            "Epoch 29/50\n",
            "2285/2285 [==============================] - 58s 26ms/step - loss: 0.0523 - accuracy: 0.9842 - val_loss: 0.1236 - val_accuracy: 0.9624\n",
            "Epoch 30/50\n",
            "2285/2285 [==============================] - 58s 25ms/step - loss: 0.0497 - accuracy: 0.9838 - val_loss: 0.1191 - val_accuracy: 0.9633\n",
            "Epoch 31/50\n",
            "2285/2285 [==============================] - 58s 25ms/step - loss: 0.0489 - accuracy: 0.9829 - val_loss: 0.1201 - val_accuracy: 0.9589\n",
            "Epoch 32/50\n",
            "2285/2285 [==============================] - 58s 25ms/step - loss: 0.0408 - accuracy: 0.9858 - val_loss: 0.1162 - val_accuracy: 0.9685\n",
            "Epoch 33/50\n",
            "2285/2285 [==============================] - 59s 26ms/step - loss: 0.0410 - accuracy: 0.9860 - val_loss: 0.2952 - val_accuracy: 0.9099\n",
            "Epoch 34/50\n",
            "2285/2285 [==============================] - 58s 25ms/step - loss: 0.0435 - accuracy: 0.9858 - val_loss: 0.1322 - val_accuracy: 0.9606\n",
            "Epoch 35/50\n",
            "2285/2285 [==============================] - 58s 25ms/step - loss: 0.0437 - accuracy: 0.9858 - val_loss: 0.1275 - val_accuracy: 0.9633\n",
            "Epoch 36/50\n",
            "2285/2285 [==============================] - 58s 25ms/step - loss: 0.0357 - accuracy: 0.9891 - val_loss: 0.1308 - val_accuracy: 0.9615\n",
            "Epoch 37/50\n",
            "2285/2285 [==============================] - 58s 25ms/step - loss: 0.0292 - accuracy: 0.9899 - val_loss: 0.1185 - val_accuracy: 0.9694\n",
            "Epoch 38/50\n",
            "2285/2285 [==============================] - 58s 25ms/step - loss: 0.0302 - accuracy: 0.9897 - val_loss: 0.1590 - val_accuracy: 0.9598\n",
            "Epoch 39/50\n",
            "2285/2285 [==============================] - 58s 25ms/step - loss: 0.0293 - accuracy: 0.9906 - val_loss: 0.1614 - val_accuracy: 0.9519\n",
            "Epoch 40/50\n",
            "2285/2285 [==============================] - 58s 25ms/step - loss: 0.0315 - accuracy: 0.9891 - val_loss: 0.0951 - val_accuracy: 0.9773\n",
            "Epoch 41/50\n",
            "2285/2285 [==============================] - 58s 25ms/step - loss: 0.0244 - accuracy: 0.9917 - val_loss: 0.1012 - val_accuracy: 0.9773\n",
            "Epoch 42/50\n",
            "2285/2285 [==============================] - 58s 26ms/step - loss: 0.0261 - accuracy: 0.9910 - val_loss: 0.1002 - val_accuracy: 0.9720\n",
            "Epoch 43/50\n",
            "2285/2285 [==============================] - 58s 25ms/step - loss: 0.0266 - accuracy: 0.9923 - val_loss: 0.1083 - val_accuracy: 0.9720\n",
            "Epoch 44/50\n",
            "2285/2285 [==============================] - 58s 25ms/step - loss: 0.0296 - accuracy: 0.9895 - val_loss: 0.1507 - val_accuracy: 0.9554\n",
            "Epoch 45/50\n",
            "2285/2285 [==============================] - 58s 25ms/step - loss: 0.0236 - accuracy: 0.9912 - val_loss: 0.1419 - val_accuracy: 0.9624\n",
            "Epoch 46/50\n",
            "2285/2285 [==============================] - 58s 25ms/step - loss: 0.0245 - accuracy: 0.9906 - val_loss: 0.0798 - val_accuracy: 0.9790\n",
            "Epoch 47/50\n",
            "2285/2285 [==============================] - 58s 25ms/step - loss: 0.0178 - accuracy: 0.9943 - val_loss: 0.1282 - val_accuracy: 0.9685\n",
            "Epoch 48/50\n",
            "2285/2285 [==============================] - 58s 25ms/step - loss: 0.0199 - accuracy: 0.9934 - val_loss: 0.0750 - val_accuracy: 0.9799\n",
            "Epoch 49/50\n",
            "2285/2285 [==============================] - 59s 26ms/step - loss: 0.0217 - accuracy: 0.9923 - val_loss: 0.1533 - val_accuracy: 0.9589\n",
            "Epoch 50/50\n",
            "2285/2285 [==============================] - 58s 26ms/step - loss: 0.0201 - accuracy: 0.9943 - val_loss: 0.1130 - val_accuracy: 0.9720\n"
          ]
        },
        {
          "output_type": "execute_result",
          "data": {
            "text/plain": [
              "<keras.callbacks.History at 0x7fcf325803d0>"
            ]
          },
          "metadata": {},
          "execution_count": 73
        }
      ],
      "source": [
        "classifier_model.fit(train_datagen.flow(X_train, y_train, batch_size=BATCH_SIZE),\n",
        "                     validation_data = (X_val,y_val),\n",
        "                     epochs = EPOCHS,\n",
        "                     verbose = 1,\n",
        "                     callbacks=[tensorboard_callback])\n"
      ],
      "id": "3d4508a1"
    },
    {
      "cell_type": "code",
      "source": [
        "path_save = \"/content/drive/MyDrive/LIFPROJET/Classification/logs/\" + MODEL_NAME\n",
        "classifier_model.save(path_save)"
      ],
      "metadata": {
        "colab": {
          "base_uri": "https://localhost:8080/"
        },
        "id": "HDgfTMAxBWcr",
        "outputId": "d0faf798-0714-4d05-fc2c-a4a443970c5e"
      },
      "id": "HDgfTMAxBWcr",
      "execution_count": 74,
      "outputs": [
        {
          "output_type": "stream",
          "name": "stderr",
          "text": [
            "WARNING:absl:Found untraced functions such as _jit_compiled_convolution_op, _jit_compiled_convolution_op, _jit_compiled_convolution_op, _jit_compiled_convolution_op, _jit_compiled_convolution_op while saving (showing 5 of 13). These functions will not be directly callable after loading.\n"
          ]
        }
      ]
    },
    {
      "cell_type": "code",
      "source": [
        "path_save = \"/content/drive/MyDrive/LIFPROJET/Classification/logs/\" + MODEL_NAME + \"_2\"\n",
        "classifier_model.save(path_save,save_format='h5')"
      ],
      "metadata": {
        "id": "dwsSc_zzI6xr"
      },
      "id": "dwsSc_zzI6xr",
      "execution_count": 78,
      "outputs": []
    },
    {
      "cell_type": "markdown",
      "source": [
        "## Evaluation : Matrice de confusion"
      ],
      "metadata": {
        "id": "58eD4WJKH8wd"
      },
      "id": "58eD4WJKH8wd"
    },
    {
      "cell_type": "code",
      "source": [
        "import seaborn as sns\n",
        "from sklearn.metrics import confusion_matrix\n",
        "\n",
        "rnd_predictions = np.argmax(classifier_model.predict(X_test), axis=1)\n",
        "rnd_labels=np.argmax(y_test, axis=1)\n",
        "\n",
        "conf_mat = confusion_matrix(rnd_labels, rnd_predictions)\n",
        "conf_mat_normalized = conf_mat.astype('float') / conf_mat.sum(axis=1)[:, np.newaxis]\n",
        "f = sns.heatmap(conf_mat_normalized, annot=True, xticklabels=classes, yticklabels=classes, cmap=\"YlGnBu\")\n",
        "plt.ylabel('True label')\n",
        "plt.xlabel('Predicted label')"
      ],
      "metadata": {
        "colab": {
          "base_uri": "https://localhost:8080/",
          "height": 314
        },
        "id": "qOxc7_giH7oA",
        "outputId": "2a65963e-f530-4a4e-ec59-165028de658a"
      },
      "id": "qOxc7_giH7oA",
      "execution_count": 77,
      "outputs": [
        {
          "output_type": "stream",
          "name": "stdout",
          "text": [
            "41/41 [==============================] - 2s 50ms/step\n"
          ]
        },
        {
          "output_type": "execute_result",
          "data": {
            "text/plain": [
              "Text(0.5, 15.0, 'Predicted label')"
            ]
          },
          "metadata": {},
          "execution_count": 77
        },
        {
          "output_type": "display_data",
          "data": {
            "text/plain": [
              "<Figure size 432x288 with 2 Axes>"
            ],
            "image/png": "[encoded data removed]"
          },
          "metadata": {
            "needs_background": "light"
          }
        }
      ]
    }
  ],
  "metadata": {
    "accelerator": "GPU",
    "colab": {
      "machine_shape": "hm",
      "provenance": []
    },
    "gpuClass": "premium",
    "kernelspec": {
      "display_name": "Python 3 (ipykernel)",
      "language": "python",
      "name": "python3"
    },
    "language_info": {
      "codemirror_mode": {
        "name": "ipython",
        "version": 3
      },
      "file_extension": ".py",
      "mimetype": "text/x-python",
      "name": "python",
      "nbconvert_exporter": "python",
      "pygments_lexer": "ipython3",
      "version": "3.9.13"
    }
  },
  "nbformat": 4,
  "nbformat_minor": 5
}