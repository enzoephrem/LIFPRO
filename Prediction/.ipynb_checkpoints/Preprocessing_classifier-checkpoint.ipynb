{
 "cells": [
  {
   "cell_type": "markdown",
   "id": "07c017ac-ca6c-48de-8cd9-caff9cc76559",
   "metadata": {},
   "source": [
    "# Preprocessing_Classifier"
   ]
  },
  {
   "cell_type": "markdown",
   "id": "edfe8630",
   "metadata": {},
   "source": [
    "### Import Modules"
   ]
  },
  {
   "cell_type": "code",
   "execution_count": null,
   "id": "077de50d",
   "metadata": {},
   "outputs": [],
   "source": [
    "import tensorflow as tf\n",
    "from tensorflow import keras\n",
    "from keras.models import Sequential\n",
    "\n",
    "from pathlib import Path\n",
    "\n",
    "import numpy as np\n",
    "import nibabel as nib\n",
    "\n",
    "from matplotlib import pyplot as plt\n",
    "import imageio\n",
    "\n",
    "import sys\n",
    "sys.path.insert(0,'/home/allan/Licence3_Informatique/LIFPROJET/Classification/')\n",
    "from lib.Classifier_Preprocessing import *"
   ]
  },
  {
   "cell_type": "markdown",
   "id": "4b6aa52b-9d4a-4ffb-a41f-fbd4f742142f",
   "metadata": {},
   "source": [
    "Ignore : warnings.warn(f\"A NumPy version >={np_minversion} and <{np_maxversion}\""
   ]
  },
  {
   "cell_type": "markdown",
   "id": "2550c8b2",
   "metadata": {},
   "source": [
    "## Import MRI and convert into a numpy array"
   ]
  },
  {
   "cell_type": "code",
   "execution_count": null,
   "id": "4263a3ba",
   "metadata": {},
   "outputs": [],
   "source": [
    "__file__ = 'Preprocessing_classifier.ipynb'\n",
    "\n",
    "BASE_DIR = Path(__file__).resolve().parent\n",
    "\n",
    "path_flair = BASE_DIR / \"Classifier_prediction\" / \"BraTS20_Training_001/BraTS20_Training_001_flair.nii\"\n",
    "path_t1 = BASE_DIR / \"Classifier_prediction\" / \"BraTS20_Training_001/BraTS20_Training_001_t1.nii\"\n",
    "path_t1ce = BASE_DIR / \"Classifier_prediction\" / \"BraTS20_Training_001/BraTS20_Training_001_t1ce.nii\"\n",
    "path_t2 = BASE_DIR / \"Classifier_prediction\" / \"BraTS20_Training_001/BraTS20_Training_001_t2.nii\""
   ]
  },
  {
   "cell_type": "code",
   "execution_count": null,
   "id": "bb1d5c51",
   "metadata": {},
   "outputs": [],
   "source": [
    "nii_img = nib.load(path_t1ce)\n",
    "nii_img_data = nii_img.get_fdata()\n",
    "\n",
    "np_array = np.array(nii_img_data)\n",
    "np_array.shape"
   ]
  },
  {
   "cell_type": "code",
   "execution_count": null,
   "id": "eb617149-9f9a-4abc-813e-a2a9663d1b1c",
   "metadata": {},
   "outputs": [],
   "source": [
    "def slice_number(numbers, axis, np_array_img):\n",
    "    \"\"\"\n",
    "    Select the number of layers according to the number table and the axis from the center of the MRI\n",
    "\n",
    "    Args:\n",
    "        numbers ([int]): number of slices to be extracted in positive\n",
    "        axis (int): x = 0, y = 1, z = 2\n",
    "        np_array_img : np array du mri\n",
    "\n",
    "    Returns:\n",
    "        ([]) : table of slices selected numbers\n",
    "    \"\"\"\n",
    "\n",
    "    # Calculation of the length according to the axis of the MRI\n",
    "    if axis == 2:\n",
    "        length = len(np_array_img[1][1])\n",
    "    else:\n",
    "        length = len(np_array_img[1])\n",
    "\n",
    "    slice_numbers = []\n",
    "    for i, number in enumerate(numbers):\n",
    "        if i == 1:\n",
    "            slice_numbers.append(int(length / 2))\n",
    "        slice_numbers.append(int(length / 2) + number)\n",
    "        slice_numbers.append(int(length / 2) - number)\n",
    "    return slice_numbers"
   ]
  },
  {
   "cell_type": "code",
   "execution_count": null,
   "id": "6d9ebc3f",
   "metadata": {},
   "outputs": [],
   "source": [
    "slice_numbers_x = slice_number([5, 10], axis=0, np_array_img=np_array)\n",
    "slice_numbers_y = slice_number([5, 10], axis=1, np_array_img=np_array)\n",
    "slice_numbers_z = slice_number([5, 10], axis=2, np_array_img=np_array)"
   ]
  },
  {
   "cell_type": "code",
   "execution_count": null,
   "id": "89d6bca2",
   "metadata": {},
   "outputs": [],
   "source": [
    "print(slice_numbers_x)\n",
    "print(slice_numbers_y)\n",
    "print(slice_numbers_z)"
   ]
  },
  {
   "cell_type": "code",
   "execution_count": null,
   "id": "2b06eaa9-1089-42ef-8dd7-92db8a49f097",
   "metadata": {},
   "outputs": [],
   "source": [
    "def create_slices(slice_numbers: [int], axis: int, np_array_img) -> []:\n",
    "    \"\"\"\n",
    "    Extract the slices from the MRI according to the axis\n",
    "\n",
    "    Args:\n",
    "        slice_numbers ([int]): slice numbers\n",
    "        axis (int): x = 0, y = 1, z = 2\n",
    "        np_array_img : np array du mri\n",
    "\n",
    "    Returns:\n",
    "        ([]) : tab of the slices in np_array_img\n",
    "    \"\"\"\n",
    "    slices = []\n",
    "    for i, number in enumerate(slice_numbers):\n",
    "        if axis == 0:\n",
    "            slices.append(np_array_img[number, :, :])\n",
    "        elif axis == 1:\n",
    "            slices.append(np_array_img[:, number, :])\n",
    "        else:\n",
    "            slices.append(np_array_img[:, :, number])\n",
    "    return slices"
   ]
  },
  {
   "cell_type": "code",
   "execution_count": null,
   "id": "8a04fb04",
   "metadata": {},
   "outputs": [],
   "source": [
    "slices_x = create_slices(slice_numbers_x, axis=0, np_array_img=np_array)\n",
    "slices_y = create_slices(slice_numbers_y, axis=1, np_array_img=np_array)\n",
    "slices_z = create_slices(slice_numbers_z, axis=2, np_array_img=np_array)"
   ]
  },
  {
   "cell_type": "markdown",
   "id": "59ac583c",
   "metadata": {},
   "source": [
    "## Show slices"
   ]
  },
  {
   "cell_type": "code",
   "execution_count": null,
   "id": "c0eaee24",
   "metadata": {},
   "outputs": [],
   "source": [
    "show_slices(slices_x[:], slices_y[:], slices_z[:])"
   ]
  },
  {
   "cell_type": "markdown",
   "id": "c1fd2603",
   "metadata": {},
   "source": [
    "## Cropping the slices"
   ]
  },
  {
   "cell_type": "code",
   "execution_count": null,
   "id": "ebcac66c",
   "metadata": {},
   "outputs": [],
   "source": [
    "# Crop the slices\n",
    "for nb_slices in range(0, len(slices_x)):\n",
    "    slices_x[nb_slices] = crop_slices(slices_x[nb_slices])\n",
    "for nb_slices in range(0, len(slices_y)):\n",
    "    slices_y[nb_slices] = crop_slices(slices_y[nb_slices])\n",
    "for nb_slices in range(0, len(slices_z)):\n",
    "    slices_z[nb_slices] = crop_slices(slices_z[nb_slices])\n"
   ]
  },
  {
   "cell_type": "code",
   "execution_count": null,
   "id": "96d27af9",
   "metadata": {},
   "outputs": [],
   "source": [
    "show_slices(slices_x[:], slices_y[:], slices_z[:])"
   ]
  },
  {
   "cell_type": "markdown",
   "id": "ab01d143",
   "metadata": {},
   "source": [
    "## Save the slices"
   ]
  },
  {
   "cell_type": "code",
   "execution_count": null,
   "id": "86bc66ed-d8b1-46cf-81ab-cd9acd1331aa",
   "metadata": {},
   "outputs": [],
   "source": [
    "def save_all_slices(slices_x: [], slices_y: [], slices_z: [], path_dir='save/'):\n",
    "    \"\"\"\n",
    "    Save all the slices in directory save/axis_*/\n",
    "\n",
    "    Args:\n",
    "        slices_x ([]): tab slices of x-axis\n",
    "        slices_y ([]): tab slices of y-axis\n",
    "        slices_z ([]): tab slices of z-axis\n",
    "\n",
    "    Returns:\n",
    "        (bool) : Return True if the images are saved and False if there are an error\n",
    "    \"\"\"\n",
    "    path_x = f\"{path_dir}/x_axis\"\n",
    "    path_y = f\"{path_dir}/y_axis\"\n",
    "    path_z = f\"{path_dir}/z_axis\"\n",
    "\n",
    "    if not os.path.exists(path_x):\n",
    "        os.makedirs(path_x)\n",
    "    if not os.path.exists(path_y):\n",
    "        os.makedirs(path_y)\n",
    "    if not os.path.exists(path_z):\n",
    "        os.makedirs(path_z)\n",
    "\n",
    "    try:\n",
    "        for i, slice in enumerate(slices_x):\n",
    "            path = path_x + f\"/slice_x_{i}.jpeg\"\n",
    "            plt.imsave(path, np.rot90(slice), cmap=\"gray\")\n",
    "        for i, slice in enumerate(slices_y):\n",
    "            path = path_y + f\"/slice_y_{i}.jpeg\"\n",
    "            plt.imsave(path, np.rot90(slice), cmap=\"gray\")\n",
    "        for i, slice in enumerate(slices_z):\n",
    "            path = path_z + f\"/slice_z_{i}.jpeg\"\n",
    "            plt.imsave(path, np.rot90(slice), cmap=\"gray\")\n",
    "        return True\n",
    "    except:\n",
    "        return False"
   ]
  },
  {
   "cell_type": "code",
   "execution_count": null,
   "id": "8fe6b652",
   "metadata": {},
   "outputs": [],
   "source": [
    "path_dir = BASE_DIR / \"save\"\n",
    "\n",
    "print(save_all_slices(slices_x[:], \n",
    "                      slices_y[:], \n",
    "                      slices_z[:],\n",
    "                      path_dir= str(path_dir)))"
   ]
  },
  {
   "cell_type": "code",
   "execution_count": null,
   "id": "376b59cc-00e2-47b6-92dc-02070aef1e0c",
   "metadata": {},
   "outputs": [],
   "source": []
  }
 ],
 "metadata": {
  "kernelspec": {
   "display_name": "Python 3 (ipykernel)",
   "language": "python",
   "name": "python3"
  },
  "language_info": {
   "codemirror_mode": {
    "name": "ipython",
    "version": 3
   },
   "file_extension": ".py",
   "mimetype": "text/x-python",
   "name": "python",
   "nbconvert_exporter": "python",
   "pygments_lexer": "ipython3",
   "version": "3.9.13"
  }
 },
 "nbformat": 4,
 "nbformat_minor": 5
}
