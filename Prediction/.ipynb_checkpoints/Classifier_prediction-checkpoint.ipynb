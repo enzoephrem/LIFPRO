{
 "cells": [
  {
   "cell_type": "markdown",
   "id": "ef815f0e-168f-4979-8a5c-96c972d0893c",
   "metadata": {},
   "source": [
    "# Classifier Prediction"
   ]
  },
  {
   "cell_type": "markdown",
   "id": "c2a3b268-61d1-449c-b0dd-84b902da00b0",
   "metadata": {},
   "source": [
    "## Import modules"
   ]
  },
  {
   "cell_type": "code",
   "execution_count": 9,
   "id": "deb941d8-8ca3-4519-b3b9-c82abea550b5",
   "metadata": {},
   "outputs": [],
   "source": [
    "import tensorflow as tf\n",
    "from tensorflow import keras\n",
    "from keras.models import Sequential\n",
    "\n",
    "from pathlib import Path\n",
    "\n",
    "import numpy as np\n",
    "import nibabel as nib\n",
    "\n",
    "from matplotlib import pyplot as plt\n",
    "import imageio"
   ]
  },
  {
   "cell_type": "markdown",
   "id": "f4a7a2c8-95c7-427e-84d3-7562832f7b56",
   "metadata": {},
   "source": [
    "Ignore : warnings.warn(f\"A NumPy version >={np_minversion} and <{np_maxversion}\""
   ]
  },
  {
   "cell_type": "code",
   "execution_count": 2,
   "id": "013fa5b0-823e-498f-b36f-2d9a40e589d2",
   "metadata": {},
   "outputs": [],
   "source": [
    "__file__ = 'Classifier_prediction.ipynb'\n",
    "BASE_DIR = Path(__file__).resolve().parent\n",
    "PARENT_DIR = BASE_DIR.parent"
   ]
  },
  {
   "cell_type": "code",
   "execution_count": 3,
   "id": "3e1d3823-861a-4a4e-9c90-2c083337ddb5",
   "metadata": {},
   "outputs": [],
   "source": [
    "lib_path = PARENT_DIR / \"Classification\"\n",
    "import sys\n",
    "sys.path.insert(0,str(lib_path))\n",
    "from lib.Classifier_Preprocessing import *"
   ]
  },
  {
   "cell_type": "markdown",
   "id": "e6c5c45d-ae23-4eb3-bbf7-993e3a3c4d4d",
   "metadata": {},
   "source": [
    "## Initialiser les chemins"
   ]
  },
  {
   "cell_type": "code",
   "execution_count": 5,
   "id": "78aa70d5-ead8-45cf-b605-79fd850dfaa1",
   "metadata": {},
   "outputs": [],
   "source": [
    "SAVE_DIR = BASE_DIR / \"save\"\n",
    "\n",
    "path_model = PARENT_DIR / \"Classification\" / \"models-classification\" / 'MobileNetV2_SGD_kl_divergence_50_2.h5'\n",
    "path_model = str(path_model)\n",
    "\n",
    "SIZE_IMG = 128"
   ]
  },
  {
   "cell_type": "code",
   "execution_count": 6,
   "id": "18829691-6cd0-43dc-b9d7-aba69f7eddcb",
   "metadata": {},
   "outputs": [
    {
     "data": {
      "text/plain": [
       "PosixPath('/home/allan/Licence3_Informatique/LIFPRO/Prediction/save')"
      ]
     },
     "execution_count": 6,
     "metadata": {},
     "output_type": "execute_result"
    }
   ],
   "source": [
    "SAVE_DIR"
   ]
  },
  {
   "cell_type": "markdown",
   "id": "adf4ed88-fa77-4215-a95b-42bd0f95868b",
   "metadata": {},
   "source": [
    "## Charger le model"
   ]
  },
  {
   "cell_type": "code",
   "execution_count": 8,
   "id": "9f4e2c8a-95aa-400e-b300-996416b07e07",
   "metadata": {},
   "outputs": [
    {
     "name": "stdout",
     "output_type": "stream",
     "text": [
      "Model: \"model_8\"\n",
      "_________________________________________________________________\n",
      " Layer (type)                Output Shape              Param #   \n",
      "=================================================================\n",
      " input_3 (InputLayer)        [(None, 128, 128, 3)]     0         \n",
      "                                                                 \n",
      " block1_conv1 (Conv2D)       (None, 128, 128, 64)      1792      \n",
      "                                                                 \n",
      " block1_conv2 (Conv2D)       (None, 128, 128, 64)      36928     \n",
      "                                                                 \n",
      " block1_pool (MaxPooling2D)  (None, 64, 64, 64)        0         \n",
      "                                                                 \n",
      " block2_conv1 (Conv2D)       (None, 64, 64, 128)       73856     \n",
      "                                                                 \n",
      " block2_conv2 (Conv2D)       (None, 64, 64, 128)       147584    \n",
      "                                                                 \n",
      " block2_pool (MaxPooling2D)  (None, 32, 32, 128)       0         \n",
      "                                                                 \n",
      " block3_conv1 (Conv2D)       (None, 32, 32, 256)       295168    \n",
      "                                                                 \n",
      " block3_conv2 (Conv2D)       (None, 32, 32, 256)       590080    \n",
      "                                                                 \n",
      " block3_conv3 (Conv2D)       (None, 32, 32, 256)       590080    \n",
      "                                                                 \n",
      " block3_pool (MaxPooling2D)  (None, 16, 16, 256)       0         \n",
      "                                                                 \n",
      " block4_conv1 (Conv2D)       (None, 16, 16, 512)       1180160   \n",
      "                                                                 \n",
      " block4_conv2 (Conv2D)       (None, 16, 16, 512)       2359808   \n",
      "                                                                 \n",
      " block4_conv3 (Conv2D)       (None, 16, 16, 512)       2359808   \n",
      "                                                                 \n",
      " block4_pool (MaxPooling2D)  (None, 8, 8, 512)         0         \n",
      "                                                                 \n",
      " block5_conv1 (Conv2D)       (None, 8, 8, 512)         2359808   \n",
      "                                                                 \n",
      " block5_conv2 (Conv2D)       (None, 8, 8, 512)         2359808   \n",
      "                                                                 \n",
      " block5_conv3 (Conv2D)       (None, 8, 8, 512)         2359808   \n",
      "                                                                 \n",
      " block5_pool (MaxPooling2D)  (None, 4, 4, 512)         0         \n",
      "                                                                 \n",
      " global_average_pooling2d_8   (None, 512)              0         \n",
      " (GlobalAveragePooling2D)                                        \n",
      "                                                                 \n",
      " dense_33 (Dense)            (None, 64)                32832     \n",
      "                                                                 \n",
      " dropout_17 (Dropout)        (None, 64)                0         \n",
      "                                                                 \n",
      " dense_34 (Dense)            (None, 32)                2080      \n",
      "                                                                 \n",
      " dense_35 (Dense)            (None, 16)                528       \n",
      "                                                                 \n",
      " dense_36 (Dense)            (None, 4)                 68        \n",
      "                                                                 \n",
      "=================================================================\n",
      "Total params: 14,750,196\n",
      "Trainable params: 14,750,196\n",
      "Non-trainable params: 0\n",
      "_________________________________________________________________\n"
     ]
    }
   ],
   "source": [
    "classifier = tf.keras.models.load_model(path_model)\n",
    "classifier.summary()"
   ]
  },
  {
   "cell_type": "markdown",
   "id": "85bb3388-9f23-4856-afaa-5c2d1966a3de",
   "metadata": {},
   "source": [
    "## Récuperation des images"
   ]
  },
  {
   "cell_type": "code",
   "execution_count": 24,
   "id": "b1097073-1bb0-4ff2-86df-798453ba8198",
   "metadata": {},
   "outputs": [
    {
     "data": {
      "text/plain": [
       "['x_axis', 'y_axis', 'z_axis']"
      ]
     },
     "execution_count": 24,
     "metadata": {},
     "output_type": "execute_result"
    }
   ],
   "source": [
    "save_dir = os.listdir(str(SAVE_DIR))\n",
    "save_dir"
   ]
  },
  {
   "cell_type": "code",
   "execution_count": 25,
   "id": "39915ccd-dbd6-42e8-86d0-076c51e8d076",
   "metadata": {},
   "outputs": [
    {
     "name": "stdout",
     "output_type": "stream",
     "text": [
      "/home/allan/Licence3_Informatique/LIFPRO/Prediction/save/x_axis/slice_x_0.jpeg\n",
      "/home/allan/Licence3_Informatique/LIFPRO/Prediction/save/x_axis/slice_x_3.jpeg\n",
      "/home/allan/Licence3_Informatique/LIFPRO/Prediction/save/x_axis/slice_x_1.jpeg\n",
      "/home/allan/Licence3_Informatique/LIFPRO/Prediction/save/x_axis/slice_x_4.jpeg\n",
      "/home/allan/Licence3_Informatique/LIFPRO/Prediction/save/x_axis/slice_x_2.jpeg\n",
      "/home/allan/Licence3_Informatique/LIFPRO/Prediction/save/y_axis/slice_y_4.jpeg\n",
      "/home/allan/Licence3_Informatique/LIFPRO/Prediction/save/y_axis/slice_y_1.jpeg\n",
      "/home/allan/Licence3_Informatique/LIFPRO/Prediction/save/y_axis/slice_y_3.jpeg\n",
      "/home/allan/Licence3_Informatique/LIFPRO/Prediction/save/y_axis/slice_y_0.jpeg\n",
      "/home/allan/Licence3_Informatique/LIFPRO/Prediction/save/y_axis/slice_y_2.jpeg\n",
      "/home/allan/Licence3_Informatique/LIFPRO/Prediction/save/z_axis/slice_z_3.jpeg\n",
      "/home/allan/Licence3_Informatique/LIFPRO/Prediction/save/z_axis/slice_z_4.jpeg\n",
      "/home/allan/Licence3_Informatique/LIFPRO/Prediction/save/z_axis/slice_z_1.jpeg\n",
      "/home/allan/Licence3_Informatique/LIFPRO/Prediction/save/z_axis/slice_z_0.jpeg\n",
      "/home/allan/Licence3_Informatique/LIFPRO/Prediction/save/z_axis/slice_z_2.jpeg\n"
     ]
    }
   ],
   "source": [
    "tab_img = []\n",
    "for dir in save_dir:\n",
    "    path = SAVE_DIR / dir\n",
    "    for f in Path(path).glob(\"*.jpeg\") :\n",
    "        tab_img.append(f)\n",
    "        print(f)"
   ]
  },
  {
   "cell_type": "markdown",
   "id": "c2750b5e-6c4a-477b-9750-917b5392a642",
   "metadata": {},
   "source": [
    "## Prediction des images"
   ]
  },
  {
   "cell_type": "markdown",
   "id": "d1e7b8c6-57fc-471c-b7b7-19c7c46eba50",
   "metadata": {},
   "source": [
    "#### Charger les images + resize"
   ]
  },
  {
   "cell_type": "code",
   "execution_count": 26,
   "id": "ab7468b1-9e58-4bbb-abca-9d6dd36a7d2c",
   "metadata": {},
   "outputs": [
    {
     "data": {
      "image/png": "[encoded data removed]",
      "text/plain": [
       "<PIL.Image.Image image mode=RGB size=128x128>"
      ]
     },
     "execution_count": 26,
     "metadata": {},
     "output_type": "execute_result"
    }
   ],
   "source": [
    "test_image = []\n",
    "for i in range(len(tab_img)):\n",
    "    test_image.append(keras.preprocessing.image.load_img(tab_img[i], target_size = (SIZE_IMG,SIZE_IMG)))\n",
    "test_image[5]"
   ]
  },
  {
   "cell_type": "markdown",
   "id": "88fbd99a-55cc-4979-9506-db178a823cd6",
   "metadata": {},
   "source": [
    "#### Prédition de chaque image"
   ]
  },
  {
   "cell_type": "code",
   "execution_count": 27,
   "id": "17089f6c-5d39-4fe7-a093-33459c48b5e6",
   "metadata": {},
   "outputs": [
    {
     "name": "stdout",
     "output_type": "stream",
     "text": [
      "1/1 [==============================] - 0s 434ms/step\n",
      "1/1 [==============================] - 0s 51ms/step\n",
      "1/1 [==============================] - 0s 53ms/step\n",
      "1/1 [==============================] - 0s 52ms/step\n",
      "1/1 [==============================] - 0s 54ms/step\n",
      "1/1 [==============================] - 0s 51ms/step\n",
      "1/1 [==============================] - 0s 51ms/step\n",
      "1/1 [==============================] - 0s 53ms/step\n",
      "1/1 [==============================] - 0s 49ms/step\n",
      "1/1 [==============================] - 0s 48ms/step\n",
      "1/1 [==============================] - 0s 43ms/step\n",
      "1/1 [==============================] - 0s 44ms/step\n",
      "1/1 [==============================] - 0s 47ms/step\n",
      "1/1 [==============================] - 0s 42ms/step\n",
      "1/1 [==============================] - 0s 47ms/step\n"
     ]
    }
   ],
   "source": [
    "resultTab = []\n",
    "for i in range(len(test_image)) :\n",
    "    image = keras.utils.img_to_array(test_image[i])\n",
    "    image = np.expand_dims(image, axis=0)\n",
    "    result = classifier.predict(image)\n",
    "    resultTab.append(result)"
   ]
  },
  {
   "cell_type": "code",
   "execution_count": 28,
   "id": "651971b9-083d-4fed-a3d9-8df1f8f41819",
   "metadata": {},
   "outputs": [],
   "source": [
    "result = []\n",
    "for i in range(len(resultTab)):\n",
    "    max = 0\n",
    "    for j in range(4):\n",
    "        if max < resultTab[i][0][j]:\n",
    "            max = j\n",
    "    if max == 0:\n",
    "        result.append('glioma')\n",
    "    elif max == 1:\n",
    "        result.append('meningioma')\n",
    "    elif max == 2:\n",
    "        result.append('notumor')\n",
    "    elif max == 3:\n",
    "        result.append('pituitary')"
   ]
  },
  {
   "cell_type": "code",
   "execution_count": 29,
   "id": "91e9b986-8543-453f-b796-e7587b016376",
   "metadata": {},
   "outputs": [
    {
     "data": {
      "text/plain": [
       "['meningioma',\n",
       " 'notumor',\n",
       " 'meningioma',\n",
       " 'meningioma',\n",
       " 'meningioma',\n",
       " 'notumor',\n",
       " 'meningioma',\n",
       " 'notumor',\n",
       " 'notumor',\n",
       " 'meningioma',\n",
       " 'notumor',\n",
       " 'meningioma',\n",
       " 'meningioma',\n",
       " 'notumor',\n",
       " 'meningioma']"
      ]
     },
     "execution_count": 29,
     "metadata": {},
     "output_type": "execute_result"
    }
   ],
   "source": [
    "result"
   ]
  },
  {
   "cell_type": "code",
   "execution_count": 30,
   "id": "fa5c8265-9b7d-46c6-9846-878f9a4ec653",
   "metadata": {},
   "outputs": [
    {
     "data": {
      "image/png": "[encoded data removed]",
      "text/plain": [
       "<PIL.Image.Image image mode=RGB size=128x128>"
      ]
     },
     "execution_count": 30,
     "metadata": {},
     "output_type": "execute_result"
    }
   ],
   "source": [
    "test_image[0]"
   ]
  },
  {
   "cell_type": "markdown",
   "id": "d8b65d80-eb90-4511-8638-b0c741324117",
   "metadata": {},
   "source": [
    "Mauvais résultat"
   ]
  },
  {
   "cell_type": "code",
   "execution_count": 31,
   "id": "63ab129d-e6a8-4e90-9c04-d61eb3e6b75e",
   "metadata": {},
   "outputs": [
    {
     "data": {
      "image/png": "[encoded data removed]",
      "text/plain": [
       "<PIL.Image.Image image mode=RGB size=128x128>"
      ]
     },
     "execution_count": 31,
     "metadata": {},
     "output_type": "execute_result"
    }
   ],
   "source": [
    "test_image[1]"
   ]
  },
  {
   "cell_type": "markdown",
   "id": "a22bc9d3-d8d4-438b-89f9-c96e8a13d56d",
   "metadata": {},
   "source": [
    "Bon résultat"
   ]
  },
  {
   "cell_type": "code",
   "execution_count": 32,
   "id": "aac292a4-224f-467b-ba30-4957c4a0c3a1",
   "metadata": {},
   "outputs": [
    {
     "data": {
      "image/png": "[encoded data removed]",
      "text/plain": [
       "<PIL.Image.Image image mode=RGB size=128x128>"
      ]
     },
     "execution_count": 32,
     "metadata": {},
     "output_type": "execute_result"
    }
   ],
   "source": [
    "test_image[5]"
   ]
  },
  {
   "cell_type": "markdown",
   "id": "3f9c9094-b7e9-4b73-b422-86ed5b0e6144",
   "metadata": {},
   "source": [
    "Skull stripping du dataset du classifier pour l'améliorer ?"
   ]
  },
  {
   "cell_type": "markdown",
   "id": "d03e5247-7167-433b-8f5e-12005be8e5aa",
   "metadata": {},
   "source": [
    "### 2e prédiction"
   ]
  },
  {
   "cell_type": "code",
   "execution_count": 33,
   "id": "969c1214-8bfe-415b-9fb2-861636c8e920",
   "metadata": {},
   "outputs": [
    {
     "name": "stdout",
     "output_type": "stream",
     "text": [
      "/home/allan/Licence3_Informatique/LIFPRO/Classification/dataset/test/Tr-no_0243.jpg\n",
      "/home/allan/Licence3_Informatique/LIFPRO/Classification/dataset/test/Tr-no_0219.jpg\n",
      "/home/allan/Licence3_Informatique/LIFPRO/Classification/dataset/test/Tr-no_0259.jpg\n",
      "/home/allan/Licence3_Informatique/LIFPRO/Classification/dataset/test/Tr-no_0275.jpg\n",
      "/home/allan/Licence3_Informatique/LIFPRO/Classification/dataset/test/Tr-no_0297.jpg\n",
      "/home/allan/Licence3_Informatique/LIFPRO/Classification/dataset/test/Tr-no_0305.jpg\n",
      "/home/allan/Licence3_Informatique/LIFPRO/Classification/dataset/test/Tr-no_0252.jpg\n",
      "/home/allan/Licence3_Informatique/LIFPRO/Classification/dataset/test/Tr-no_0293.jpg\n",
      "/home/allan/Licence3_Informatique/LIFPRO/Classification/dataset/test/Tr-no_0301.jpg\n",
      "/home/allan/Licence3_Informatique/LIFPRO/Classification/dataset/test/Tr-no_0262.jpg\n",
      "/home/allan/Licence3_Informatique/LIFPRO/Classification/dataset/test/Tr-no_0321.jpg\n",
      "/home/allan/Licence3_Informatique/LIFPRO/Classification/dataset/test/Tr-no_0273.jpg\n",
      "/home/allan/Licence3_Informatique/LIFPRO/Classification/dataset/test/Tr-no_0022.jpg\n",
      "/home/allan/Licence3_Informatique/LIFPRO/Classification/dataset/test/Tr-no_0256.jpg\n",
      "/home/allan/Licence3_Informatique/LIFPRO/Classification/dataset/test/Tr-no_0068.jpg\n",
      "/home/allan/Licence3_Informatique/LIFPRO/Classification/dataset/test/Tr-no_0295.jpg\n",
      "/home/allan/Licence3_Informatique/LIFPRO/Classification/dataset/test/Tr-no_0306.jpg\n",
      "/home/allan/Licence3_Informatique/LIFPRO/Classification/dataset/test/Tr-no_0271.jpg\n"
     ]
    }
   ],
   "source": [
    "path = PARENT_BASE_DIR / \"Classification\" / \"dataset\" / \"test\"\n",
    "tab_img = []\n",
    "\n",
    "for f in Path(path).glob(\"Tr-no*\") :\n",
    "    tab_img.append(f)\n",
    "    print(f)"
   ]
  },
  {
   "cell_type": "code",
   "execution_count": 34,
   "id": "9dd6bc45-4689-4854-9feb-6ac1c73199d5",
   "metadata": {},
   "outputs": [
    {
     "data": {
      "image/png": "[encoded data removed]",
      "text/plain": [
       "<PIL.Image.Image image mode=RGB size=128x128>"
      ]
     },
     "execution_count": 34,
     "metadata": {},
     "output_type": "execute_result"
    }
   ],
   "source": [
    "test_image = []\n",
    "for i in range(len(tab_img)):\n",
    "    test_image.append(keras.preprocessing.image.load_img(tab_img[i], target_size = (SIZE_IMG,SIZE_IMG)))\n",
    "test_image[0]"
   ]
  },
  {
   "cell_type": "code",
   "execution_count": 35,
   "id": "9d57a29f-5c0b-425b-80b6-11d612b7922f",
   "metadata": {},
   "outputs": [
    {
     "name": "stdout",
     "output_type": "stream",
     "text": [
      "1/1 [==============================] - 0s 56ms/step\n",
      "1/1 [==============================] - 0s 55ms/step\n",
      "1/1 [==============================] - 0s 52ms/step\n",
      "1/1 [==============================] - 0s 55ms/step\n",
      "1/1 [==============================] - 0s 45ms/step\n",
      "1/1 [==============================] - 0s 44ms/step\n",
      "1/1 [==============================] - 0s 50ms/step\n",
      "1/1 [==============================] - 0s 46ms/step\n",
      "1/1 [==============================] - 0s 45ms/step\n",
      "1/1 [==============================] - 0s 47ms/step\n",
      "1/1 [==============================] - 0s 51ms/step\n",
      "1/1 [==============================] - 0s 51ms/step\n",
      "1/1 [==============================] - 0s 55ms/step\n",
      "1/1 [==============================] - 0s 47ms/step\n",
      "1/1 [==============================] - 0s 43ms/step\n",
      "1/1 [==============================] - 0s 40ms/step\n",
      "1/1 [==============================] - 0s 51ms/step\n",
      "1/1 [==============================] - 0s 52ms/step\n"
     ]
    }
   ],
   "source": [
    "resultTab = []\n",
    "for i in range(len(test_image)) :\n",
    "    image = keras.utils.img_to_array(test_image[i])\n",
    "    image = np.expand_dims(image, axis=0)\n",
    "    result = classifier.predict(image)\n",
    "    resultTab.append(result)"
   ]
  },
  {
   "cell_type": "code",
   "execution_count": 36,
   "id": "6d256c01-85e1-4855-aa4d-0eb3143d83cd",
   "metadata": {},
   "outputs": [
    {
     "data": {
      "text/plain": [
       "['notumor',\n",
       " 'notumor',\n",
       " 'notumor',\n",
       " 'notumor',\n",
       " 'notumor',\n",
       " 'notumor',\n",
       " 'notumor',\n",
       " 'notumor',\n",
       " 'notumor',\n",
       " 'notumor',\n",
       " 'notumor',\n",
       " 'notumor',\n",
       " 'notumor',\n",
       " 'notumor',\n",
       " 'notumor',\n",
       " 'notumor',\n",
       " 'notumor',\n",
       " 'notumor']"
      ]
     },
     "execution_count": 36,
     "metadata": {},
     "output_type": "execute_result"
    }
   ],
   "source": [
    "result = []\n",
    "for i in range(len(resultTab)):\n",
    "    max = 0\n",
    "    for j in range(4):\n",
    "        if max < resultTab[i][0][j]:\n",
    "            max = j\n",
    "    if max == 0:\n",
    "        result.append('glioma')\n",
    "    elif max == 1:\n",
    "        result.append('meningioma')\n",
    "    elif max == 2:\n",
    "        result.append('notumor')\n",
    "    elif max == 3:\n",
    "        result.append('pituitary')\n",
    "result"
   ]
  },
  {
   "cell_type": "code",
   "execution_count": null,
   "id": "342b5983-2ba8-4de4-8246-6aa7086c30fe",
   "metadata": {},
   "outputs": [],
   "source": []
  },
  {
   "cell_type": "code",
   "execution_count": null,
   "id": "34aa89db-9a91-4d89-827d-5e0c9329523e",
   "metadata": {},
   "outputs": [],
   "source": []
  },
  {
   "cell_type": "code",
   "execution_count": null,
   "id": "5c46abb0-657f-4b56-ba66-12ad580663b4",
   "metadata": {},
   "outputs": [],
   "source": []
  }
 ],
 "metadata": {
  "kernelspec": {
   "display_name": "Python 3 (ipykernel)",
   "language": "python",
   "name": "python3"
  },
  "language_info": {
   "codemirror_mode": {
    "name": "ipython",
    "version": 3
   },
   "file_extension": ".py",
   "mimetype": "text/x-python",
   "name": "python",
   "nbconvert_exporter": "python",
   "pygments_lexer": "ipython3",
   "version": "3.9.13"
  }
 },
 "nbformat": 4,
 "nbformat_minor": 5
}
